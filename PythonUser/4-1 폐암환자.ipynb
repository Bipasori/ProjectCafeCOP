{
 "cells": [
  {
   "cell_type": "code",
   "execution_count": 1,
   "metadata": {},
   "outputs": [],
   "source": [
    "import tensorflow as tf\n",
    "from tensorflow import keras\n",
    "import numpy as np"
   ]
  },
  {
   "cell_type": "code",
   "execution_count": 2,
   "metadata": {},
   "outputs": [],
   "source": [
    "# 폐암환자 데이터\n",
    "dataset = np.loadtxt('dataset/Thoraricsurgery.csv',delimiter=',')"
   ]
  },
  {
   "cell_type": "code",
   "execution_count": 3,
   "metadata": {},
   "outputs": [
    {
     "data": {
      "text/plain": [
       "(470, 18)"
      ]
     },
     "execution_count": 3,
     "metadata": {},
     "output_type": "execute_result"
    }
   ],
   "source": [
    "dataset.shape"
   ]
  },
  {
   "cell_type": "code",
   "execution_count": 4,
   "metadata": {},
   "outputs": [
    {
     "data": {
      "text/plain": [
       "array([[293.  ,   1.  ,   3.8 ,   2.8 ,   0.  ,   0.  ,   0.  ,   0.  ,\n",
       "          0.  ,   0.  ,  12.  ,   0.  ,   0.  ,   0.  ,   1.  ,   0.  ,\n",
       "         62.  ,   0.  ],\n",
       "       [  1.  ,   2.  ,   2.88,   2.16,   1.  ,   0.  ,   0.  ,   0.  ,\n",
       "          1.  ,   1.  ,  14.  ,   0.  ,   0.  ,   0.  ,   1.  ,   0.  ,\n",
       "         60.  ,   0.  ]])"
      ]
     },
     "execution_count": 4,
     "metadata": {},
     "output_type": "execute_result"
    }
   ],
   "source": [
    "dataset[0:2,:]"
   ]
  },
  {
   "cell_type": "code",
   "execution_count": 5,
   "metadata": {},
   "outputs": [],
   "source": [
    "x = dataset[:,0:17]"
   ]
  },
  {
   "cell_type": "code",
   "execution_count": 6,
   "metadata": {},
   "outputs": [],
   "source": [
    "y = dataset[:,17]"
   ]
  },
  {
   "cell_type": "code",
   "execution_count": 7,
   "metadata": {},
   "outputs": [
    {
     "data": {
      "text/plain": [
       "array([293. ,   1. ,   3.8,   2.8,   0. ,   0. ,   0. ,   0. ,   0. ,\n",
       "         0. ,  12. ,   0. ,   0. ,   0. ,   1. ,   0. ,  62. ])"
      ]
     },
     "execution_count": 7,
     "metadata": {},
     "output_type": "execute_result"
    }
   ],
   "source": [
    "x[0]"
   ]
  },
  {
   "cell_type": "code",
   "execution_count": 8,
   "metadata": {},
   "outputs": [
    {
     "data": {
      "text/plain": [
       "0.0"
      ]
     },
     "execution_count": 8,
     "metadata": {},
     "output_type": "execute_result"
    }
   ],
   "source": [
    "y[len(y) - 1]"
   ]
  },
  {
   "cell_type": "code",
   "execution_count": 9,
   "metadata": {},
   "outputs": [],
   "source": [
    "model = keras.Sequential() #모델 선언"
   ]
  },
  {
   "cell_type": "code",
   "execution_count": 10,
   "metadata": {},
   "outputs": [],
   "source": [
    "model.add(tf.keras.layers.Dense(30, input_dim=17, activation='relu')) # 은닉층\n",
    "model.add(tf.keras.layers.Dense(1, activation='sigmoid')) # 출력층"
   ]
  },
  {
   "cell_type": "code",
   "execution_count": 11,
   "metadata": {},
   "outputs": [
    {
     "name": "stdout",
     "output_type": "stream",
     "text": [
      "Train on 470 samples\n",
      "Epoch 1/30\n",
      "470/470 [==============================] - 1s 2ms/sample - loss: 0.1798 - accuracy: 0.8149\n",
      "Epoch 2/30\n",
      "470/470 [==============================] - 0s 178us/sample - loss: 0.1544 - accuracy: 0.8383\n",
      "Epoch 3/30\n",
      "470/470 [==============================] - 0s 180us/sample - loss: 0.1502 - accuracy: 0.8489\n",
      "Epoch 4/30\n",
      "470/470 [==============================] - 0s 182us/sample - loss: 0.1486 - accuracy: 0.8511\n",
      "Epoch 5/30\n",
      "470/470 [==============================] - 0s 189us/sample - loss: 0.1487 - accuracy: 0.8511\n",
      "Epoch 6/30\n",
      "470/470 [==============================] - 0s 172us/sample - loss: 0.1483 - accuracy: 0.8511\n",
      "Epoch 7/30\n",
      "470/470 [==============================] - 0s 180us/sample - loss: 0.1491 - accuracy: 0.8426\n",
      "Epoch 8/30\n",
      "470/470 [==============================] - 0s 168us/sample - loss: 0.1481 - accuracy: 0.8511\n",
      "Epoch 9/30\n",
      "470/470 [==============================] - 0s 197us/sample - loss: 0.1493 - accuracy: 0.8447\n",
      "Epoch 10/30\n",
      "470/470 [==============================] - 0s 191us/sample - loss: 0.1483 - accuracy: 0.8511\n",
      "Epoch 11/30\n",
      "470/470 [==============================] - 0s 212us/sample - loss: 0.1484 - accuracy: 0.8489\n",
      "Epoch 12/30\n",
      "470/470 [==============================] - 0s 210us/sample - loss: 0.1488 - accuracy: 0.8447\n",
      "Epoch 13/30\n",
      "470/470 [==============================] - 0s 195us/sample - loss: 0.1486 - accuracy: 0.8511\n",
      "Epoch 14/30\n",
      "470/470 [==============================] - 0s 159us/sample - loss: 0.1482 - accuracy: 0.8511\n",
      "Epoch 15/30\n",
      "470/470 [==============================] - 0s 178us/sample - loss: 0.1492 - accuracy: 0.8468\n",
      "Epoch 16/30\n",
      "470/470 [==============================] - 0s 180us/sample - loss: 0.1486 - accuracy: 0.8511\n",
      "Epoch 17/30\n",
      "470/470 [==============================] - 0s 187us/sample - loss: 0.1485 - accuracy: 0.8511\n",
      "Epoch 18/30\n",
      "470/470 [==============================] - 0s 174us/sample - loss: 0.1475 - accuracy: 0.8511\n",
      "Epoch 19/30\n",
      "470/470 [==============================] - 0s 180us/sample - loss: 0.1483 - accuracy: 0.8468\n",
      "Epoch 20/30\n",
      "470/470 [==============================] - 0s 163us/sample - loss: 0.1489 - accuracy: 0.8489\n",
      "Epoch 21/30\n",
      "470/470 [==============================] - 0s 178us/sample - loss: 0.1485 - accuracy: 0.8511\n",
      "Epoch 22/30\n",
      "470/470 [==============================] - 0s 193us/sample - loss: 0.1480 - accuracy: 0.8511\n",
      "Epoch 23/30\n",
      "470/470 [==============================] - 0s 189us/sample - loss: 0.1466 - accuracy: 0.8532\n",
      "Epoch 24/30\n",
      "470/470 [==============================] - 0s 206us/sample - loss: 0.1468 - accuracy: 0.8511\n",
      "Epoch 25/30\n",
      "470/470 [==============================] - 0s 227us/sample - loss: 0.1470 - accuracy: 0.8468\n",
      "Epoch 26/30\n",
      "470/470 [==============================] - 0s 208us/sample - loss: 0.1483 - accuracy: 0.8468\n",
      "Epoch 27/30\n",
      "470/470 [==============================] - 0s 204us/sample - loss: 0.1452 - accuracy: 0.8532\n",
      "Epoch 28/30\n",
      "470/470 [==============================] - 0s 244us/sample - loss: 0.1498 - accuracy: 0.8468\n",
      "Epoch 29/30\n",
      "470/470 [==============================] - 0s 219us/sample - loss: 0.1480 - accuracy: 0.8511\n",
      "Epoch 30/30\n",
      "470/470 [==============================] - 0s 206us/sample - loss: 0.1480 - accuracy: 0.8489\n"
     ]
    },
    {
     "data": {
      "text/plain": [
       "<tensorflow.python.keras.callbacks.History at 0x225bd5747f0>"
      ]
     },
     "execution_count": 11,
     "metadata": {},
     "output_type": "execute_result"
    }
   ],
   "source": [
    "model.compile(loss='mean_squared_error', optimizer='adam', metrics=['accuracy'])\n",
    "model.fit(x, y, epochs=30, batch_size=10)"
   ]
  },
  {
   "cell_type": "code",
   "execution_count": null,
   "metadata": {},
   "outputs": [],
   "source": []
  }
 ],
 "metadata": {
  "kernelspec": {
   "display_name": "Python 3",
   "language": "python",
   "name": "python3"
  },
  "language_info": {
   "codemirror_mode": {
    "name": "ipython",
    "version": 3
   },
   "file_extension": ".py",
   "mimetype": "text/x-python",
   "name": "python",
   "nbconvert_exporter": "python",
   "pygments_lexer": "ipython3",
   "version": "3.7.3"
  }
 },
 "nbformat": 4,
 "nbformat_minor": 4
}
