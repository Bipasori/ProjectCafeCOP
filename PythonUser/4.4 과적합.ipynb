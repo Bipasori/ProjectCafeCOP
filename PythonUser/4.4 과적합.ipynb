{
 "cells": [
  {
   "cell_type": "markdown",
   "metadata": {},
   "source": [
    "# 과적합 피하기\n",
    "\n",
    "<img src='https://cl.ly/d79b2fbcf368/1.jpg' width='200px' height='200px'/>\n",
    "\n",
    "<img src='https://cl.ly/679f91fb2343/2.jpg' width='200px' height='200px'/>\n",
    "\n",
    "## To-Learn\n",
    "* 과적합 해소\n",
    "* 학습셋과 테스트셋으로 나누기\n",
    "* 모델 저장 및 재사용"
   ]
  },
  {
   "cell_type": "code",
   "execution_count": 1,
   "metadata": {},
   "outputs": [],
   "source": [
    "import tensorflow as tf\n",
    "import numpy as np\n",
    "import pandas as pd"
   ]
  },
  {
   "cell_type": "code",
   "execution_count": 2,
   "metadata": {},
   "outputs": [],
   "source": [
    "from sklearn.preprocessing import LabelEncoder\n",
    "from sklearn.model_selection import train_test_split"
   ]
  },
  {
   "cell_type": "code",
   "execution_count": 3,
   "metadata": {},
   "outputs": [],
   "source": [
    "import matplotlib.pyplot as plt\n",
    "import seaborn as sns\n",
    "%matplotlib inline"
   ]
  },
  {
   "cell_type": "code",
   "execution_count": 4,
   "metadata": {},
   "outputs": [],
   "source": [
    "seed = 0\n",
    "np.random.seed(seed)\n",
    "tf.random.set_seed(seed)"
   ]
  },
  {
   "cell_type": "code",
   "execution_count": 5,
   "metadata": {},
   "outputs": [],
   "source": [
    "df = pd.read_csv(\"./dataset/sonar.csv\", header=None)"
   ]
  },
  {
   "cell_type": "code",
   "execution_count": 6,
   "metadata": {},
   "outputs": [],
   "source": [
    "dataset = df.values\n",
    "x = dataset[:, 0:60].astype(float)\n",
    "y_obj = dataset[:, 60]"
   ]
  },
  {
   "cell_type": "code",
   "execution_count": 7,
   "metadata": {},
   "outputs": [
    {
     "data": {
      "text/plain": [
       "(208, 61)"
      ]
     },
     "execution_count": 7,
     "metadata": {},
     "output_type": "execute_result"
    }
   ],
   "source": [
    "df.shape"
   ]
  },
  {
   "cell_type": "code",
   "execution_count": 8,
   "metadata": {},
   "outputs": [
    {
     "data": {
      "text/plain": [
       "(208, 60)"
      ]
     },
     "execution_count": 8,
     "metadata": {},
     "output_type": "execute_result"
    }
   ],
   "source": [
    "x.shape"
   ]
  },
  {
   "cell_type": "code",
   "execution_count": 9,
   "metadata": {},
   "outputs": [
    {
     "data": {
      "text/plain": [
       "(208,)"
      ]
     },
     "execution_count": 9,
     "metadata": {},
     "output_type": "execute_result"
    }
   ],
   "source": [
    "y_obj.shape"
   ]
  },
  {
   "cell_type": "code",
   "execution_count": 10,
   "metadata": {},
   "outputs": [],
   "source": [
    "e = LabelEncoder()\n",
    "e.fit(y_obj)\n",
    "y = e.transform(y_obj)"
   ]
  },
  {
   "cell_type": "code",
   "execution_count": 11,
   "metadata": {},
   "outputs": [
    {
     "data": {
      "text/plain": [
       "array([[0.02  , 0.0371, 0.0428, ..., 0.0084, 0.009 , 0.0032],\n",
       "       [0.0453, 0.0523, 0.0843, ..., 0.0049, 0.0052, 0.0044],\n",
       "       [0.0262, 0.0582, 0.1099, ..., 0.0164, 0.0095, 0.0078],\n",
       "       ...,\n",
       "       [0.0522, 0.0437, 0.018 , ..., 0.0138, 0.0077, 0.0031],\n",
       "       [0.0303, 0.0353, 0.049 , ..., 0.0079, 0.0036, 0.0048],\n",
       "       [0.026 , 0.0363, 0.0136, ..., 0.0036, 0.0061, 0.0115]])"
      ]
     },
     "execution_count": 11,
     "metadata": {},
     "output_type": "execute_result"
    }
   ],
   "source": [
    "x"
   ]
  },
  {
   "cell_type": "code",
   "execution_count": 12,
   "metadata": {},
   "outputs": [
    {
     "data": {
      "text/plain": [
       "array([1, 1, 1, 1, 1, 1, 1, 1, 1, 1, 1, 1, 1, 1, 1, 1, 1, 1, 1, 1, 1, 1,\n",
       "       1, 1, 1, 1, 1, 1, 1, 1, 1, 1, 1, 1, 1, 1, 1, 1, 1, 1, 1, 1, 1, 1,\n",
       "       1, 1, 1, 1, 1, 1, 1, 1, 1, 1, 1, 1, 1, 1, 1, 1, 1, 1, 1, 1, 1, 1,\n",
       "       1, 1, 1, 1, 1, 1, 1, 1, 1, 1, 1, 1, 1, 1, 1, 1, 1, 1, 1, 1, 1, 1,\n",
       "       1, 1, 1, 1, 1, 1, 1, 1, 1, 0, 0, 0, 0, 0, 0, 0, 0, 0, 0, 0, 0, 0,\n",
       "       0, 0, 0, 0, 0, 0, 0, 0, 0, 0, 0, 0, 0, 0, 0, 0, 0, 0, 0, 0, 0, 0,\n",
       "       0, 0, 0, 0, 0, 0, 0, 0, 0, 0, 0, 0, 0, 0, 0, 0, 0, 0, 0, 0, 0, 0,\n",
       "       0, 0, 0, 0, 0, 0, 0, 0, 0, 0, 0, 0, 0, 0, 0, 0, 0, 0, 0, 0, 0, 0,\n",
       "       0, 0, 0, 0, 0, 0, 0, 0, 0, 0, 0, 0, 0, 0, 0, 0, 0, 0, 0, 0, 0, 0,\n",
       "       0, 0, 0, 0, 0, 0, 0, 0, 0, 0])"
      ]
     },
     "execution_count": 12,
     "metadata": {},
     "output_type": "execute_result"
    }
   ],
   "source": [
    "y"
   ]
  },
  {
   "cell_type": "code",
   "execution_count": 13,
   "metadata": {},
   "outputs": [],
   "source": [
    "x_train, x_test, y_train, y_test = train_test_split(\n",
    "    x, y, test_size=0.3, random_state=seed)"
   ]
  },
  {
   "cell_type": "code",
   "execution_count": 14,
   "metadata": {},
   "outputs": [],
   "source": [
    "model = tf.keras.models.Sequential([\n",
    "  tf.keras.layers.Dense(24, input_dim=60, activation='relu'),\n",
    "  tf.keras.layers.Dense(10, activation='relu'),\n",
    "  tf.keras.layers.Dense(1, activation='sigmoid')\n",
    "])"
   ]
  },
  {
   "cell_type": "code",
   "execution_count": 15,
   "metadata": {},
   "outputs": [],
   "source": [
    "model.compile(optimizer='adam',\n",
    "              loss='mean_squared_error',\n",
    "              metrics=['accuracy'])"
   ]
  },
  {
   "cell_type": "code",
   "execution_count": 16,
   "metadata": {},
   "outputs": [
    {
     "data": {
      "text/plain": [
       "(145, 60)"
      ]
     },
     "execution_count": 16,
     "metadata": {},
     "output_type": "execute_result"
    }
   ],
   "source": [
    "x_train.shape"
   ]
  },
  {
   "cell_type": "code",
   "execution_count": 17,
   "metadata": {},
   "outputs": [
    {
     "data": {
      "text/plain": [
       "(145,)"
      ]
     },
     "execution_count": 17,
     "metadata": {},
     "output_type": "execute_result"
    }
   ],
   "source": [
    "y_train.shape"
   ]
  },
  {
   "cell_type": "code",
   "execution_count": 18,
   "metadata": {},
   "outputs": [
    {
     "name": "stdout",
     "output_type": "stream",
     "text": [
      "Train on 145 samples\n",
      "Epoch 1/130\n",
      "145/145 [==============================] - 1s 6ms/sample - loss: 0.2448 - accuracy: 0.5586\n",
      "Epoch 2/130\n",
      "145/145 [==============================] - 0s 351us/sample - loss: 0.2330 - accuracy: 0.6138\n",
      "Epoch 3/130\n",
      "145/145 [==============================] - 0s 351us/sample - loss: 0.2220 - accuracy: 0.7310\n",
      "Epoch 4/130\n",
      "145/145 [==============================] - 0s 365us/sample - loss: 0.2114 - accuracy: 0.7103\n",
      "Epoch 5/130\n",
      "145/145 [==============================] - 0s 358us/sample - loss: 0.2047 - accuracy: 0.7379\n",
      "Epoch 6/130\n",
      "145/145 [==============================] - 0s 516us/sample - loss: 0.1948 - accuracy: 0.7586\n",
      "Epoch 7/130\n",
      "145/145 [==============================] - 0s 516us/sample - loss: 0.1860 - accuracy: 0.7517\n",
      "Epoch 8/130\n",
      "145/145 [==============================] - 0s 371us/sample - loss: 0.1774 - accuracy: 0.7931\n",
      "Epoch 9/130\n",
      "145/145 [==============================] - 0s 406us/sample - loss: 0.1826 - accuracy: 0.7034\n",
      "Epoch 10/130\n",
      "145/145 [==============================] - 0s 337us/sample - loss: 0.1650 - accuracy: 0.8000\n",
      "Epoch 11/130\n",
      "145/145 [==============================] - 0s 358us/sample - loss: 0.1633 - accuracy: 0.7793\n",
      "Epoch 12/130\n",
      "145/145 [==============================] - 0s 475us/sample - loss: 0.1560 - accuracy: 0.8138\n",
      "Epoch 13/130\n",
      "145/145 [==============================] - 0s 736us/sample - loss: 0.1509 - accuracy: 0.8276\n",
      "Epoch 14/130\n",
      "145/145 [==============================] - 0s 481us/sample - loss: 0.1475 - accuracy: 0.8069\n",
      "Epoch 15/130\n",
      "145/145 [==============================] - 0s 440us/sample - loss: 0.1456 - accuracy: 0.8276\n",
      "Epoch 16/130\n",
      "145/145 [==============================] - 0s 344us/sample - loss: 0.1398 - accuracy: 0.8414\n",
      "Epoch 17/130\n",
      "145/145 [==============================] - 0s 399us/sample - loss: 0.1379 - accuracy: 0.8207\n",
      "Epoch 18/130\n",
      "145/145 [==============================] - 0s 344us/sample - loss: 0.1371 - accuracy: 0.8345\n",
      "Epoch 19/130\n",
      "145/145 [==============================] - 0s 337us/sample - loss: 0.1353 - accuracy: 0.8138\n",
      "Epoch 20/130\n",
      "145/145 [==============================] - 0s 337us/sample - loss: 0.1316 - accuracy: 0.8069\n",
      "Epoch 21/130\n",
      "145/145 [==============================] - 0s 344us/sample - loss: 0.1337 - accuracy: 0.8138\n",
      "Epoch 22/130\n",
      "145/145 [==============================] - 0s 371us/sample - loss: 0.1259 - accuracy: 0.8552\n",
      "Epoch 23/130\n",
      "145/145 [==============================] - 0s 344us/sample - loss: 0.1212 - accuracy: 0.8621\n",
      "Epoch 24/130\n",
      "145/145 [==============================] - 0s 337us/sample - loss: 0.1182 - accuracy: 0.8690\n",
      "Epoch 25/130\n",
      "145/145 [==============================] - 0s 351us/sample - loss: 0.1191 - accuracy: 0.8552\n",
      "Epoch 26/130\n",
      "145/145 [==============================] - 0s 337us/sample - loss: 0.1203 - accuracy: 0.8276\n",
      "Epoch 27/130\n",
      "145/145 [==============================] - 0s 365us/sample - loss: 0.1138 - accuracy: 0.8621\n",
      "Epoch 28/130\n",
      "145/145 [==============================] - 0s 447us/sample - loss: 0.1123 - accuracy: 0.8828\n",
      "Epoch 29/130\n",
      "145/145 [==============================] - 0s 433us/sample - loss: 0.1114 - accuracy: 0.8759\n",
      "Epoch 30/130\n",
      "145/145 [==============================] - 0s 454us/sample - loss: 0.1097 - accuracy: 0.8759\n",
      "Epoch 31/130\n",
      "145/145 [==============================] - 0s 433us/sample - loss: 0.1069 - accuracy: 0.8690\n",
      "Epoch 32/130\n",
      "145/145 [==============================] - 0s 358us/sample - loss: 0.1075 - accuracy: 0.8621\n",
      "Epoch 33/130\n",
      "145/145 [==============================] - 0s 413us/sample - loss: 0.1057 - accuracy: 0.8759\n",
      "Epoch 34/130\n",
      "145/145 [==============================] - 0s 358us/sample - loss: 0.1016 - accuracy: 0.8759\n",
      "Epoch 35/130\n",
      "145/145 [==============================] - 0s 392us/sample - loss: 0.1096 - accuracy: 0.8621\n",
      "Epoch 36/130\n",
      "145/145 [==============================] - 0s 351us/sample - loss: 0.1055 - accuracy: 0.8621\n",
      "Epoch 37/130\n",
      "145/145 [==============================] - 0s 337us/sample - loss: 0.0989 - accuracy: 0.8621\n",
      "Epoch 38/130\n",
      "145/145 [==============================] - 0s 351us/sample - loss: 0.0984 - accuracy: 0.8828\n",
      "Epoch 39/130\n",
      "145/145 [==============================] - 0s 509us/sample - loss: 0.0963 - accuracy: 0.8828\n",
      "Epoch 40/130\n",
      "145/145 [==============================] - 0s 530us/sample - loss: 0.0943 - accuracy: 0.8897\n",
      "Epoch 41/130\n",
      "145/145 [==============================] - ETA: 0s - loss: 0.0959 - accuracy: 0.90 - 0s 461us/sample - loss: 0.0978 - accuracy: 0.8966\n",
      "Epoch 42/130\n",
      "145/145 [==============================] - 0s 468us/sample - loss: 0.0916 - accuracy: 0.8828\n",
      "Epoch 43/130\n",
      "145/145 [==============================] - 0s 447us/sample - loss: 0.0915 - accuracy: 0.8897\n",
      "Epoch 44/130\n",
      "145/145 [==============================] - 0s 447us/sample - loss: 0.0927 - accuracy: 0.8897\n",
      "Epoch 45/130\n",
      "145/145 [==============================] - 0s 447us/sample - loss: 0.0852 - accuracy: 0.8966\n",
      "Epoch 46/130\n",
      "145/145 [==============================] - 0s 516us/sample - loss: 0.0885 - accuracy: 0.8828\n",
      "Epoch 47/130\n",
      "145/145 [==============================] - 0s 495us/sample - loss: 0.0826 - accuracy: 0.9034\n",
      "Epoch 48/130\n",
      "145/145 [==============================] - 0s 495us/sample - loss: 0.0870 - accuracy: 0.8966\n",
      "Epoch 49/130\n",
      "145/145 [==============================] - 0s 420us/sample - loss: 0.0843 - accuracy: 0.8828\n",
      "Epoch 50/130\n",
      "145/145 [==============================] - 0s 406us/sample - loss: 0.0792 - accuracy: 0.8966\n",
      "Epoch 51/130\n",
      "145/145 [==============================] - 0s 351us/sample - loss: 0.0785 - accuracy: 0.8966\n",
      "Epoch 52/130\n",
      "145/145 [==============================] - 0s 475us/sample - loss: 0.0800 - accuracy: 0.9172\n",
      "Epoch 53/130\n",
      "145/145 [==============================] - 0s 509us/sample - loss: 0.0905 - accuracy: 0.8759\n",
      "Epoch 54/130\n",
      "145/145 [==============================] - 0s 344us/sample - loss: 0.0816 - accuracy: 0.8897\n",
      "Epoch 55/130\n",
      "145/145 [==============================] - 0s 502us/sample - loss: 0.0746 - accuracy: 0.9034\n",
      "Epoch 56/130\n",
      "145/145 [==============================] - 0s 323us/sample - loss: 0.0757 - accuracy: 0.9034\n",
      "Epoch 57/130\n",
      "145/145 [==============================] - 0s 351us/sample - loss: 0.0730 - accuracy: 0.9034\n",
      "Epoch 58/130\n",
      "145/145 [==============================] - 0s 310us/sample - loss: 0.0728 - accuracy: 0.8966\n",
      "Epoch 59/130\n",
      "145/145 [==============================] - 0s 330us/sample - loss: 0.0676 - accuracy: 0.9034\n",
      "Epoch 60/130\n",
      "145/145 [==============================] - 0s 337us/sample - loss: 0.0719 - accuracy: 0.8966\n",
      "Epoch 61/130\n",
      "145/145 [==============================] - 0s 330us/sample - loss: 0.0690 - accuracy: 0.9034\n",
      "Epoch 62/130\n",
      "145/145 [==============================] - 0s 344us/sample - loss: 0.0664 - accuracy: 0.9034\n",
      "Epoch 63/130\n",
      "145/145 [==============================] - 0s 330us/sample - loss: 0.0650 - accuracy: 0.9103\n",
      "Epoch 64/130\n",
      "145/145 [==============================] - 0s 337us/sample - loss: 0.0680 - accuracy: 0.9241\n",
      "Epoch 65/130\n",
      "145/145 [==============================] - 0s 330us/sample - loss: 0.0648 - accuracy: 0.9241\n",
      "Epoch 66/130\n",
      "145/145 [==============================] - 0s 330us/sample - loss: 0.0661 - accuracy: 0.9241\n",
      "Epoch 67/130\n",
      "145/145 [==============================] - 0s 337us/sample - loss: 0.0620 - accuracy: 0.9310\n",
      "Epoch 68/130\n",
      "145/145 [==============================] - 0s 330us/sample - loss: 0.0658 - accuracy: 0.9172\n",
      "Epoch 69/130\n",
      "145/145 [==============================] - 0s 358us/sample - loss: 0.0685 - accuracy: 0.9103\n",
      "Epoch 70/130\n",
      "145/145 [==============================] - 0s 330us/sample - loss: 0.0621 - accuracy: 0.9241\n",
      "Epoch 71/130\n",
      "145/145 [==============================] - 0s 330us/sample - loss: 0.0590 - accuracy: 0.9241\n",
      "Epoch 72/130\n",
      "145/145 [==============================] - 0s 344us/sample - loss: 0.0568 - accuracy: 0.9172\n",
      "Epoch 73/130\n",
      "145/145 [==============================] - 0s 454us/sample - loss: 0.0572 - accuracy: 0.9517\n",
      "Epoch 74/130\n",
      "145/145 [==============================] - 0s 475us/sample - loss: 0.0614 - accuracy: 0.9103\n",
      "Epoch 75/130\n",
      "145/145 [==============================] - 0s 454us/sample - loss: 0.0541 - accuracy: 0.9379\n",
      "Epoch 76/130\n",
      "145/145 [==============================] - 0s 365us/sample - loss: 0.0518 - accuracy: 0.9241\n",
      "Epoch 77/130\n",
      "145/145 [==============================] - 0s 323us/sample - loss: 0.0496 - accuracy: 0.9448\n",
      "Epoch 78/130\n",
      "145/145 [==============================] - 0s 337us/sample - loss: 0.0512 - accuracy: 0.9310\n",
      "Epoch 79/130\n",
      "145/145 [==============================] - 0s 344us/sample - loss: 0.0520 - accuracy: 0.9379\n",
      "Epoch 80/130\n",
      "145/145 [==============================] - 0s 310us/sample - loss: 0.0571 - accuracy: 0.9310\n",
      "Epoch 81/130\n",
      "145/145 [==============================] - 0s 323us/sample - loss: 0.0501 - accuracy: 0.9379\n",
      "Epoch 82/130\n",
      "145/145 [==============================] - 0s 344us/sample - loss: 0.0467 - accuracy: 0.9586\n",
      "Epoch 83/130\n",
      "145/145 [==============================] - 0s 310us/sample - loss: 0.0459 - accuracy: 0.9517\n",
      "Epoch 84/130\n",
      "145/145 [==============================] - 0s 351us/sample - loss: 0.0458 - accuracy: 0.9448\n",
      "Epoch 85/130\n",
      "145/145 [==============================] - 0s 330us/sample - loss: 0.0434 - accuracy: 0.9655\n",
      "Epoch 86/130\n",
      "145/145 [==============================] - 0s 351us/sample - loss: 0.0458 - accuracy: 0.9517\n",
      "Epoch 87/130\n",
      "145/145 [==============================] - 0s 316us/sample - loss: 0.0435 - accuracy: 0.9517\n",
      "Epoch 88/130\n",
      "145/145 [==============================] - 0s 344us/sample - loss: 0.0460 - accuracy: 0.9448\n",
      "Epoch 89/130\n",
      "145/145 [==============================] - 0s 316us/sample - loss: 0.0437 - accuracy: 0.9655\n",
      "Epoch 90/130\n",
      "145/145 [==============================] - 0s 337us/sample - loss: 0.0424 - accuracy: 0.9655\n",
      "Epoch 91/130\n",
      "145/145 [==============================] - 0s 323us/sample - loss: 0.0403 - accuracy: 0.9655\n",
      "Epoch 92/130\n",
      "145/145 [==============================] - 0s 337us/sample - loss: 0.0515 - accuracy: 0.9517\n",
      "Epoch 93/130\n",
      "145/145 [==============================] - 0s 310us/sample - loss: 0.0393 - accuracy: 0.9724\n",
      "Epoch 94/130\n",
      "145/145 [==============================] - 0s 344us/sample - loss: 0.0384 - accuracy: 0.9724\n",
      "Epoch 95/130\n",
      "145/145 [==============================] - 0s 358us/sample - loss: 0.0373 - accuracy: 0.9655\n",
      "Epoch 96/130\n",
      "145/145 [==============================] - 0s 316us/sample - loss: 0.0361 - accuracy: 0.9655\n",
      "Epoch 97/130\n",
      "145/145 [==============================] - 0s 323us/sample - loss: 0.0393 - accuracy: 0.9655\n",
      "Epoch 98/130\n",
      "145/145 [==============================] - 0s 344us/sample - loss: 0.0345 - accuracy: 0.9724\n",
      "Epoch 99/130\n",
      "145/145 [==============================] - 0s 310us/sample - loss: 0.0343 - accuracy: 0.9724\n",
      "Epoch 100/130\n",
      "145/145 [==============================] - 0s 344us/sample - loss: 0.0366 - accuracy: 0.9655\n",
      "Epoch 101/130\n",
      "145/145 [==============================] - 0s 323us/sample - loss: 0.0323 - accuracy: 0.9931\n",
      "Epoch 102/130\n",
      "145/145 [==============================] - 0s 351us/sample - loss: 0.0357 - accuracy: 0.9586\n",
      "Epoch 103/130\n",
      "145/145 [==============================] - 0s 316us/sample - loss: 0.0355 - accuracy: 0.9655\n",
      "Epoch 104/130\n",
      "145/145 [==============================] - 0s 413us/sample - loss: 0.0331 - accuracy: 0.9724\n",
      "Epoch 105/130\n",
      "145/145 [==============================] - 0s 571us/sample - loss: 0.0300 - accuracy: 0.9862\n",
      "Epoch 106/130\n",
      "145/145 [==============================] - 0s 502us/sample - loss: 0.0294 - accuracy: 0.9793\n",
      "Epoch 107/130\n",
      "145/145 [==============================] - 0s 426us/sample - loss: 0.0304 - accuracy: 0.9724\n",
      "Epoch 108/130\n",
      "145/145 [==============================] - 0s 316us/sample - loss: 0.0324 - accuracy: 0.9655\n",
      "Epoch 109/130\n",
      "145/145 [==============================] - 0s 344us/sample - loss: 0.0275 - accuracy: 0.9862\n",
      "Epoch 110/130\n",
      "145/145 [==============================] - 0s 523us/sample - loss: 0.0266 - accuracy: 0.9931\n",
      "Epoch 111/130\n",
      "145/145 [==============================] - 0s 592us/sample - loss: 0.0270 - accuracy: 0.9931\n",
      "Epoch 112/130\n",
      "145/145 [==============================] - 0s 530us/sample - loss: 0.0296 - accuracy: 0.9793\n",
      "Epoch 113/130\n",
      "145/145 [==============================] - 0s 323us/sample - loss: 0.0294 - accuracy: 0.9724\n",
      "Epoch 114/130\n",
      "145/145 [==============================] - 0s 323us/sample - loss: 0.0243 - accuracy: 0.9931\n",
      "Epoch 115/130\n",
      "145/145 [==============================] - 0s 454us/sample - loss: 0.0257 - accuracy: 0.9862\n",
      "Epoch 116/130\n",
      "145/145 [==============================] - 0s 543us/sample - loss: 0.0258 - accuracy: 0.9862\n",
      "Epoch 117/130\n",
      "145/145 [==============================] - 0s 475us/sample - loss: 0.0223 - accuracy: 0.9862\n",
      "Epoch 118/130\n",
      "145/145 [==============================] - 0s 371us/sample - loss: 0.0249 - accuracy: 0.9793\n",
      "Epoch 119/130\n",
      "145/145 [==============================] - 0s 372us/sample - loss: 0.0250 - accuracy: 0.9931\n",
      "Epoch 120/130\n",
      "145/145 [==============================] - 0s 516us/sample - loss: 0.0228 - accuracy: 0.9862\n",
      "Epoch 121/130\n",
      "145/145 [==============================] - 0s 550us/sample - loss: 0.0222 - accuracy: 0.9931\n",
      "Epoch 122/130\n",
      "145/145 [==============================] - 0s 420us/sample - loss: 0.0218 - accuracy: 0.9931\n",
      "Epoch 123/130\n",
      "145/145 [==============================] - 0s 351us/sample - loss: 0.0233 - accuracy: 0.9862\n",
      "Epoch 124/130\n",
      "145/145 [==============================] - 0s 358us/sample - loss: 0.0276 - accuracy: 0.9793\n",
      "Epoch 125/130\n",
      "145/145 [==============================] - 0s 323us/sample - loss: 0.0207 - accuracy: 0.9931\n",
      "Epoch 126/130\n",
      "145/145 [==============================] - 0s 316us/sample - loss: 0.0191 - accuracy: 0.9931\n",
      "Epoch 127/130\n",
      "145/145 [==============================] - 0s 371us/sample - loss: 0.0205 - accuracy: 0.9931\n",
      "Epoch 128/130\n",
      "145/145 [==============================] - 0s 351us/sample - loss: 0.0201 - accuracy: 0.9931\n",
      "Epoch 129/130\n",
      "145/145 [==============================] - 0s 310us/sample - loss: 0.0229 - accuracy: 0.9862\n",
      "Epoch 130/130\n",
      "145/145 [==============================] - 0s 323us/sample - loss: 0.0191 - accuracy: 0.9931\n"
     ]
    }
   ],
   "source": [
    "history = model.fit(x_train, y_train, epochs=130, batch_size=5)"
   ]
  },
  {
   "cell_type": "code",
   "execution_count": 19,
   "metadata": {},
   "outputs": [],
   "source": [
    "model.save('overfit_model.h5')"
   ]
  },
  {
   "cell_type": "code",
   "execution_count": 20,
   "metadata": {},
   "outputs": [],
   "source": [
    "del model"
   ]
  },
  {
   "cell_type": "code",
   "execution_count": 21,
   "metadata": {},
   "outputs": [],
   "source": [
    "model = tf.keras.models.load_model('overfit_model.h5')"
   ]
  },
  {
   "cell_type": "code",
   "execution_count": 22,
   "metadata": {},
   "outputs": [
    {
     "name": "stdout",
     "output_type": "stream",
     "text": [
      "63/1 [==================================================================================================================================================================================================================================================================================================================================================================================================================================================================================================================================================================================================================================================================================================================================================================================================================================================================================================================================================================================================================================================================================================================================================================================================================================================================================================================================================================================================================================================================================================================================================================================================================================================================================================================================================================================================================================================================================================================================================================] - 0s 1ms/sample - loss: 0.1466 - accuracy: 0.8254\n",
      "[0.13530334641063024, 0.82539684]\n"
     ]
    }
   ],
   "source": [
    "print(model.evaluate(x_test, y_test))"
   ]
  },
  {
   "cell_type": "code",
   "execution_count": null,
   "metadata": {},
   "outputs": [],
   "source": []
  }
 ],
 "metadata": {
  "kernelspec": {
   "display_name": "Python 3",
   "language": "python",
   "name": "python3"
  },
  "language_info": {
   "codemirror_mode": {
    "name": "ipython",
    "version": 3
   },
   "file_extension": ".py",
   "mimetype": "text/x-python",
   "name": "python",
   "nbconvert_exporter": "python",
   "pygments_lexer": "ipython3",
   "version": "3.7.3"
  }
 },
 "nbformat": 4,
 "nbformat_minor": 2
}
